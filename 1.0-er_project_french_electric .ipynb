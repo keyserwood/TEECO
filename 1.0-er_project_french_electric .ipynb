{
 "cells": [
  {
   "cell_type": "markdown",
   "metadata": {},
   "source": [
    "# French Electric Mix in 2019"
   ]
  },
  {
   "cell_type": "code",
   "execution_count": 206,
   "metadata": {},
   "outputs": [],
   "source": [
    "import pandas as pd \n",
    "import numpy as np \n",
    "import matplotlib.pyplot as plt\n",
    "import seaborn as sn \n",
    "%matplotlib inline \n",
    "plt.style.use('ggplot')"
   ]
  },
  {
   "cell_type": "markdown",
   "metadata": {},
   "source": [
    "* https://opendata.reseaux-energies.fr/pages/accueil/\n",
    "* https://bilan-electrique-2019.rte-france.com/\n",
    "* https://transparency.entsoe.eu/"
   ]
  },
  {
   "cell_type": "markdown",
   "metadata": {},
   "source": [
    "# Module construction production & demande \n",
    "\n",
    "> Données entrée : \n",
    "* Courbe de demande \n",
    "* Courbe de production \n",
    "* Capacité installée de chaque filière\n",
    "* Demande nette fournit imports/exports\n",
    "\n",
    "\n",
    "\n"
   ]
  },
  {
   "cell_type": "markdown",
   "metadata": {},
   "source": [
    "# Reconstruire la courbe "
   ]
  },
  {
   "cell_type": "code",
   "execution_count": 9,
   "metadata": {},
   "outputs": [],
   "source": [
    "hours = [i for i in range(24)]\n",
    "\n",
    "\"Nucléaire, renouvelable, thermique\"\n",
    "c0 = 40\n",
    "c1 = 20\n",
    "c2 = 10"
   ]
  },
  {
   "cell_type": "code",
   "execution_count": 13,
   "metadata": {},
   "outputs": [],
   "source": [
    "demande = [50,45,40,40,40,40,40,40,40,45,50,55,60,60,60,70,70,70,65,60,57,53,50,50]"
   ]
  },
  {
   "cell_type": "markdown",
   "metadata": {},
   "source": [
    "calculer ce qu'il faut combler, prendre à chaque heure, division euclidienne de la valeur\n"
   ]
  },
  {
   "cell_type": "code",
   "execution_count": 30,
   "metadata": {},
   "outputs": [],
   "source": [
    "capacity = [30,20,10,5]"
   ]
  },
  {
   "cell_type": "code",
   "execution_count": 32,
   "metadata": {},
   "outputs": [],
   "source": []
  },
  {
   "cell_type": "code",
   "execution_count": 35,
   "metadata": {},
   "outputs": [
    {
     "data": {
      "text/plain": [
       "10"
      ]
     },
     "execution_count": 35,
     "metadata": {},
     "output_type": "execute_result"
    }
   ],
   "source": [
    "40%capacity[0]"
   ]
  },
  {
   "cell_type": "code",
   "execution_count": 45,
   "metadata": {},
   "outputs": [
    {
     "data": {
      "text/plain": [
       "2"
      ]
     },
     "execution_count": 45,
     "metadata": {},
     "output_type": "execute_result"
    }
   ],
   "source": [
    "60//30"
   ]
  },
  {
   "cell_type": "code",
   "execution_count": 51,
   "metadata": {},
   "outputs": [
    {
     "name": "stdout",
     "output_type": "stream",
     "text": [
      "70\n",
      "0 30\n",
      "40\n",
      "40\n",
      "1 20\n",
      "20\n",
      "20\n",
      "2 10\n",
      "10\n",
      "10\n",
      "3 5\n",
      "5\n"
     ]
    }
   ],
   "source": [
    "d1 = 70\n",
    "r = d1\n",
    "c = 0\n",
    "while r!=0 and c<len(capacity):\n",
    "    print(r)\n",
    "    r = r-capacity[c]\n",
    "    print(c, capacity[c])\n",
    "    print(r)\n",
    "    c+=1\n"
   ]
  },
  {
   "cell_type": "code",
   "execution_count": 42,
   "metadata": {},
   "outputs": [
    {
     "data": {
      "text/plain": [
       "1"
      ]
     },
     "execution_count": 42,
     "metadata": {},
     "output_type": "execute_result"
    }
   ],
   "source": [
    "c"
   ]
  },
  {
   "cell_type": "code",
   "execution_count": 72,
   "metadata": {},
   "outputs": [
    {
     "data": {
      "text/plain": [
       "array([[0., 0.],\n",
       "       [0., 0.]])"
      ]
     },
     "execution_count": 72,
     "metadata": {},
     "output_type": "execute_result"
    }
   ],
   "source": [
    "np.zeros((2,2))"
   ]
  },
  {
   "cell_type": "code",
   "execution_count": 216,
   "metadata": {},
   "outputs": [],
   "source": [
    "def dispatch(demande, capacity):\n",
    "    capacity.sort(reverse=True)\n",
    "# Il faut d'abord créer le dispatch, pour cela on utilise une matrice afin de savoir quelle unité sont utilisée à quelle heure\n",
    "    mat = np.zeros((len(capacity)+1,24))\n",
    "    capacities = mat\n",
    "    for (i,d) in enumerate(demande) : \n",
    "        # For each hourly demande we need to compute which solution we are going to use\n",
    "        r = d \n",
    "        j = 0\n",
    "        while r!=0 and j<len(capacity) :\n",
    "                if capacity[j] < r:\n",
    "                    # This capacity is not sufficient to match demande\n",
    "                    r = r-capacity[j]\n",
    "                    mat[j][i] = 1\n",
    "                else :\n",
    "                    # Capacity above what we need, will only use a part of it \n",
    "                    r = 0\n",
    "                    mat[j][i] = 1\n",
    "\n",
    "                j+=1\n",
    "        if r!=0:\n",
    "            mat[len(capacity)][i] = 1\n",
    "    #Ensuite on créé les vecteurs qui vont nous permettre d'afficher le dispatch\n",
    "    for i in range(len(hours)):\n",
    "        #### On parcourt chaque heure\n",
    "        maxcap_h = 0 #Permet de savoir quelle est le niveau minimum de production pour chaque heure utile pour tracer\n",
    "        for j in range(len(capacity)+1):\n",
    "            if j!=len(capacity):\n",
    "                if mat[j][i] !=0:\n",
    "                    capacities[j][i] = sum(capacity[:j+1]) #On définit la capacité\n",
    "                    maxcap_h = capacities[j][i]\n",
    "                else :\n",
    "                    capacities[j][i] = maxcap_h\n",
    "\n",
    "            else : \n",
    "                if mat[j][i]!=0:\n",
    "                    # Les unités de production ne sont pas suffisante, ou trop importantes, il faut importer // exporter\n",
    "                    capacities[j][i] = (demande[i]-sum(capacity))\n",
    "    plot_dispatch(demande,capacity,capacities)"
   ]
  },
  {
   "cell_type": "markdown",
   "metadata": {},
   "source": [
    "## Capacity to draw"
   ]
  },
  {
   "cell_type": "code",
   "execution_count": 218,
   "metadata": {},
   "outputs": [],
   "source": [
    "def plot_dispatch(demande,capacity,capacities):\n",
    "    hours = [i for i in range(24)]\n",
    "    colors = ['gray','orange','blue','green','yellow']\n",
    "    plt.figure(figsize=(10,10))\n",
    "    plt.plot(hours,demande,label=\"Demande\",linewidth = 5)\n",
    "    for i in range(len(capacity)):\n",
    "        if i ==0:\n",
    "            plt.fill_between(hours,capacities[i][:],color=colors[i],label=f'Capacité {capacity[i]}')\n",
    "        else : \n",
    "            plt.fill_between(hours,capacities[i-1][:],capacities[i][:],color=colors[i],label=f'Capacité {capacity[i]}')\n",
    "    plt.fill_between(hours,capacities[len(capacity)-1][:],demande,color='pink',label=f'Import // Export')\n",
    "    plt.title(f'Dispatch avec {len(capacity)} outils de production')\n",
    "    plt.legend(loc='upper left')"
   ]
  },
  {
   "cell_type": "code",
   "execution_count": 219,
   "metadata": {},
   "outputs": [
    {
     "data": {
      "image/png": "[encoded data removed]",
      "text/plain": [
       "<Figure size 720x720 with 1 Axes>"
      ]
     },
     "metadata": {},
     "output_type": "display_data"
    }
   ],
   "source": [
    "dispatch(demande,capacity)"
   ]
  },
  {
   "cell_type": "code",
   "execution_count": 213,
   "metadata": {},
   "outputs": [],
   "source": [
    "capacity2 = [25,20]"
   ]
  },
  {
   "cell_type": "code",
   "execution_count": 220,
   "metadata": {},
   "outputs": [
    {
     "data": {
      "image/png": "[encoded data removed]",
      "text/plain": [
       "<Figure size 720x720 with 1 Axes>"
      ]
     },
     "metadata": {},
     "output_type": "display_data"
    }
   ],
   "source": [
    "dispatch(demande,capacity2)"
   ]
  },
  {
   "cell_type": "code",
   "execution_count": 214,
   "metadata": {},
   "outputs": [],
   "source": [
    "capacity2.sort(reverse=True)"
   ]
  },
  {
   "cell_type": "code",
   "execution_count": 215,
   "metadata": {},
   "outputs": [
    {
     "data": {
      "text/plain": [
       "[25, 20]"
      ]
     },
     "execution_count": 215,
     "metadata": {},
     "output_type": "execute_result"
    }
   ],
   "source": [
    "capacity2"
   ]
  }
 ],
 "metadata": {
  "kernelspec": {
   "display_name": "Python 3",
   "language": "python",
   "name": "python3"
  },
  "language_info": {
   "codemirror_mode": {
    "name": "ipython",
    "version": 3
   },
   "file_extension": ".py",
   "mimetype": "text/x-python",
   "name": "python",
   "nbconvert_exporter": "python",
   "pygments_lexer": "ipython3",
   "version": "3.7.6"
  }
 },
 "nbformat": 4,
 "nbformat_minor": 4
}
